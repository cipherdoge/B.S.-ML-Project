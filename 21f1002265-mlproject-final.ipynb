{
 "cells": [
  {
   "cell_type": "code",
   "execution_count": 1,
   "id": "4a85aca5",
   "metadata": {
    "execution": {
     "iopub.execute_input": "2022-12-18T11:49:20.659601Z",
     "iopub.status.busy": "2022-12-18T11:49:20.659163Z",
     "iopub.status.idle": "2022-12-18T11:49:22.335500Z",
     "shell.execute_reply": "2022-12-18T11:49:22.334573Z"
    },
    "papermill": {
     "duration": 1.69274,
     "end_time": "2022-12-18T11:49:22.338701",
     "exception": false,
     "start_time": "2022-12-18T11:49:20.645961",
     "status": "completed"
    },
    "tags": []
   },
   "outputs": [],
   "source": [
    "import pandas as pd\n",
    "import numpy as np\n",
    "import sklearn as sk\n",
    "import seaborn as sns\n",
    "import matplotlib.pyplot as plt\n",
    "from sklearn.impute import SimpleImputer\n",
    "from sklearn.preprocessing import LabelEncoder\n",
    "from sklearn.pipeline import Pipeline\n",
    "from sklearn.compose import ColumnTransformer\n",
    "from sklearn.preprocessing import OneHotEncoder\n",
    "from sklearn.preprocessing import OrdinalEncoder\n",
    "from sklearn.preprocessing import PolynomialFeatures\n",
    "from sklearn.feature_selection import f_classif\n",
    "from sklearn.ensemble import RandomForestClassifier\n",
    "from sklearn.ensemble import AdaBoostClassifier\n",
    "from sklearn.ensemble import GradientBoostingClassifier\n",
    "from sklearn.tree import DecisionTreeClassifier\n",
    "from sklearn.model_selection import train_test_split\n",
    "from sklearn.metrics import f1_score\n",
    "from sklearn.neural_network import MLPClassifier\n",
    "import xgboost as xg\n",
    "from sklearn.model_selection import GridSearchCV"
   ]
  },
  {
   "cell_type": "code",
   "execution_count": 2,
   "id": "1f817bc4",
   "metadata": {
    "execution": {
     "iopub.execute_input": "2022-12-18T11:49:22.358150Z",
     "iopub.status.busy": "2022-12-18T11:49:22.357260Z",
     "iopub.status.idle": "2022-12-18T11:49:22.561521Z",
     "shell.execute_reply": "2022-12-18T11:49:22.560225Z"
    },
    "papermill": {
     "duration": 0.216243,
     "end_time": "2022-12-18T11:49:22.564190",
     "exception": false,
     "start_time": "2022-12-18T11:49:22.347947",
     "status": "completed"
    },
    "tags": []
   },
   "outputs": [],
   "source": [
    "df1=pd.read_csv(\"/kaggle/input/marketing-strategy-personalised-offer/train_data.csv\")\n",
    "dfte=pd.read_csv(\"/kaggle/input/marketing-strategy-personalised-offer/test_data.csv\")\n",
    "df2=df1.copy()\n",
    "#print(len(df1))"
   ]
  },
  {
   "cell_type": "code",
   "execution_count": 3,
   "id": "1971be83",
   "metadata": {
    "execution": {
     "iopub.execute_input": "2022-12-18T11:49:22.583127Z",
     "iopub.status.busy": "2022-12-18T11:49:22.582146Z",
     "iopub.status.idle": "2022-12-18T11:49:22.587929Z",
     "shell.execute_reply": "2022-12-18T11:49:22.586776Z"
    },
    "papermill": {
     "duration": 0.018017,
     "end_time": "2022-12-18T11:49:22.590374",
     "exception": false,
     "start_time": "2022-12-18T11:49:22.572357",
     "status": "completed"
    },
    "tags": []
   },
   "outputs": [],
   "source": [
    "redu=[]\n",
    "missingno=[]\n",
    "missnames=[]"
   ]
  },
  {
   "cell_type": "code",
   "execution_count": 4,
   "id": "60a04893",
   "metadata": {
    "execution": {
     "iopub.execute_input": "2022-12-18T11:49:22.608834Z",
     "iopub.status.busy": "2022-12-18T11:49:22.607868Z",
     "iopub.status.idle": "2022-12-18T11:49:22.637592Z",
     "shell.execute_reply": "2022-12-18T11:49:22.636480Z"
    },
    "papermill": {
     "duration": 0.042069,
     "end_time": "2022-12-18T11:49:22.640304",
     "exception": false,
     "start_time": "2022-12-18T11:49:22.598235",
     "status": "completed"
    },
    "tags": []
   },
   "outputs": [],
   "source": [
    "df2.drop(columns=\"car\",inplace=True)\n",
    "dfte.drop(columns=\"car\",inplace=True)\n",
    "df2.drop(columns=\"travelled_more_than_5mins_for_offer\",inplace=True)\n",
    "dfte.drop(columns=\"travelled_more_than_5mins_for_offer\",inplace=True)"
   ]
  },
  {
   "cell_type": "code",
   "execution_count": 5,
   "id": "eca22904",
   "metadata": {
    "execution": {
     "iopub.execute_input": "2022-12-18T11:49:22.659270Z",
     "iopub.status.busy": "2022-12-18T11:49:22.658856Z",
     "iopub.status.idle": "2022-12-18T11:49:22.715677Z",
     "shell.execute_reply": "2022-12-18T11:49:22.714498Z"
    },
    "papermill": {
     "duration": 0.068048,
     "end_time": "2022-12-18T11:49:22.717988",
     "exception": false,
     "start_time": "2022-12-18T11:49:22.649940",
     "status": "completed"
    },
    "tags": []
   },
   "outputs": [],
   "source": [
    "for i in df2.columns:\n",
    "    if sum(df2[i].isna()):\n",
    "        missingno.append(df2[i])\n",
    "        missnames.append(i)"
   ]
  },
  {
   "cell_type": "code",
   "execution_count": 6,
   "id": "3c905560",
   "metadata": {
    "execution": {
     "iopub.execute_input": "2022-12-18T11:49:22.735430Z",
     "iopub.status.busy": "2022-12-18T11:49:22.735044Z",
     "iopub.status.idle": "2022-12-18T11:49:22.804131Z",
     "shell.execute_reply": "2022-12-18T11:49:22.802879Z"
    },
    "papermill": {
     "duration": 0.080899,
     "end_time": "2022-12-18T11:49:22.806977",
     "exception": false,
     "start_time": "2022-12-18T11:49:22.726078",
     "status": "completed"
    },
    "tags": []
   },
   "outputs": [],
   "source": [
    "SImp=SimpleImputer(strategy=\"most_frequent\")\n",
    "for i in missingno:\n",
    "    temp=np.array(i)\n",
    "    temp=temp.reshape(-1,1)\n",
    "    temp=SImp.fit_transform(temp)\n",
    "    temp=pd.DataFrame(temp)\n",
    "    #print(temp)\n",
    "    nom=missnames[0]\n",
    "    df2[nom]=temp\n",
    "    missnames.remove(missnames[0])\n",
    "#print(df2)\n",
    "for i in df2.columns:\n",
    "    if sum(df2[i].isna()):\n",
    "        print(\"whoops\")"
   ]
  },
  {
   "cell_type": "code",
   "execution_count": 7,
   "id": "56c99f4e",
   "metadata": {
    "execution": {
     "iopub.execute_input": "2022-12-18T11:49:22.824870Z",
     "iopub.status.busy": "2022-12-18T11:49:22.824445Z",
     "iopub.status.idle": "2022-12-18T11:49:22.863139Z",
     "shell.execute_reply": "2022-12-18T11:49:22.861966Z"
    },
    "papermill": {
     "duration": 0.050702,
     "end_time": "2022-12-18T11:49:22.865807",
     "exception": false,
     "start_time": "2022-12-18T11:49:22.815105",
     "status": "completed"
    },
    "tags": []
   },
   "outputs": [],
   "source": [
    "missingno=[]\n",
    "missingnames=[]\n",
    "for i in dfte.columns:\n",
    "    if sum(dfte[i].isna()):\n",
    "        missingno.append(dfte[i])\n",
    "        missnames.append(i)\n",
    "for i in missingno:\n",
    "    temp=np.array(i)\n",
    "    temp=temp.reshape(-1,1)\n",
    "    temp=SImp.fit_transform(temp)\n",
    "    temp=pd.DataFrame(temp)\n",
    "    #print(temp)\n",
    "    nom=missnames[0]\n",
    "    dfte[nom]=temp\n",
    "    missnames.remove(missnames[0])"
   ]
  },
  {
   "cell_type": "code",
   "execution_count": 8,
   "id": "651f7333",
   "metadata": {
    "execution": {
     "iopub.execute_input": "2022-12-18T11:49:22.885892Z",
     "iopub.status.busy": "2022-12-18T11:49:22.884881Z",
     "iopub.status.idle": "2022-12-18T11:49:22.896162Z",
     "shell.execute_reply": "2022-12-18T11:49:22.894865Z"
    },
    "papermill": {
     "duration": 0.025485,
     "end_time": "2022-12-18T11:49:22.899106",
     "exception": false,
     "start_time": "2022-12-18T11:49:22.873621",
     "status": "completed"
    },
    "tags": []
   },
   "outputs": [
    {
     "name": "stdout",
     "output_type": "stream",
     "text": [
      "[0 1 1 ... 0 1 1]\n"
     ]
    }
   ],
   "source": [
    "label=df2.pop(\"Offer Accepted\")\n",
    "le=LabelEncoder()\n",
    "label=le.fit_transform(label)\n",
    "print(label)"
   ]
  },
  {
   "cell_type": "code",
   "execution_count": 9,
   "id": "24d7c627",
   "metadata": {
    "execution": {
     "iopub.execute_input": "2022-12-18T11:49:22.918293Z",
     "iopub.status.busy": "2022-12-18T11:49:22.917870Z",
     "iopub.status.idle": "2022-12-18T11:49:22.922607Z",
     "shell.execute_reply": "2022-12-18T11:49:22.921508Z"
    },
    "papermill": {
     "duration": 0.01728,
     "end_time": "2022-12-18T11:49:22.925164",
     "exception": false,
     "start_time": "2022-12-18T11:49:22.907884",
     "status": "completed"
    },
    "scrolled": true,
    "tags": []
   },
   "outputs": [],
   "source": [
    "#print(len(df2.columns))\n",
    "#for i in df2.columns:\n",
    "#    print(i)\n",
    "#    print(df2[i].value_counts())"
   ]
  },
  {
   "cell_type": "code",
   "execution_count": 10,
   "id": "dcdd4279",
   "metadata": {
    "execution": {
     "iopub.execute_input": "2022-12-18T11:49:22.943506Z",
     "iopub.status.busy": "2022-12-18T11:49:22.943128Z",
     "iopub.status.idle": "2022-12-18T11:49:22.960186Z",
     "shell.execute_reply": "2022-12-18T11:49:22.958986Z"
    },
    "papermill": {
     "duration": 0.029437,
     "end_time": "2022-12-18T11:49:22.962805",
     "exception": false,
     "start_time": "2022-12-18T11:49:22.933368",
     "status": "completed"
    },
    "tags": []
   },
   "outputs": [],
   "source": [
    "df3=df2.copy()"
   ]
  },
  {
   "cell_type": "code",
   "execution_count": 11,
   "id": "a1e2c6a6",
   "metadata": {
    "execution": {
     "iopub.execute_input": "2022-12-18T11:49:22.980984Z",
     "iopub.status.busy": "2022-12-18T11:49:22.980537Z",
     "iopub.status.idle": "2022-12-18T11:49:22.986886Z",
     "shell.execute_reply": "2022-12-18T11:49:22.985761Z"
    },
    "papermill": {
     "duration": 0.018176,
     "end_time": "2022-12-18T11:49:22.989197",
     "exception": false,
     "start_time": "2022-12-18T11:49:22.971021",
     "status": "completed"
    },
    "tags": []
   },
   "outputs": [],
   "source": [
    "cats=[\"offer expiration\",\"Marital Status\",\"restaurant type\",\"Customer type\",\"Qualification\",\"Job/Job Industry\",\"Climate\",\"drop location\"]\n",
    "ords=[\"income_range\",\"no_visited_Cold drinks\",\"Restaur_spend_less_than20\",\"age\",\"no_visited_bars\",\"no_Take-aways\",\"visit restaurant with rating (avg)\",\"Restaur_spend_greater_than20\",\"Travel Time\",\"temperature\"]\n",
    "bins=[\"travelled_more_than_15mins_for_offer\",\"Prefer western over chinese\",\"travelled_more_than_25mins_for_offer\",\"gender\",\"restuarant_same_direction_house\",\"Cooks regularly\",\"is foodie\",\"restuarant_opposite_direction_house\",\"has Children\",\"Prefer home food\"]"
   ]
  },
  {
   "cell_type": "code",
   "execution_count": 12,
   "id": "4a3e3163",
   "metadata": {
    "execution": {
     "iopub.execute_input": "2022-12-18T11:49:23.006493Z",
     "iopub.status.busy": "2022-12-18T11:49:23.006074Z",
     "iopub.status.idle": "2022-12-18T11:49:23.011162Z",
     "shell.execute_reply": "2022-12-18T11:49:23.010328Z"
    },
    "papermill": {
     "duration": 0.016484,
     "end_time": "2022-12-18T11:49:23.013415",
     "exception": false,
     "start_time": "2022-12-18T11:49:22.996931",
     "status": "completed"
    },
    "tags": []
   },
   "outputs": [],
   "source": [
    "for i in df3.columns:\n",
    "    if i not in cats and i not in ords and i not in bins:\n",
    "        print(i)"
   ]
  },
  {
   "cell_type": "code",
   "execution_count": 13,
   "id": "4e77cb71",
   "metadata": {
    "execution": {
     "iopub.execute_input": "2022-12-18T11:49:23.032129Z",
     "iopub.status.busy": "2022-12-18T11:49:23.031412Z",
     "iopub.status.idle": "2022-12-18T11:49:23.038021Z",
     "shell.execute_reply": "2022-12-18T11:49:23.036786Z"
    },
    "papermill": {
     "duration": 0.019068,
     "end_time": "2022-12-18T11:49:23.040624",
     "exception": false,
     "start_time": "2022-12-18T11:49:23.021556",
     "status": "completed"
    },
    "tags": []
   },
   "outputs": [],
   "source": [
    "catpip=Pipeline(steps=[(\"cat_enc\",OneHotEncoder())])\n",
    "binpip=Pipeline(steps=[(\"bin_enc\",OneHotEncoder())])\n",
    "ordpip=Pipeline(steps=[(\"ord_enc\",OrdinalEncoder())])"
   ]
  },
  {
   "cell_type": "code",
   "execution_count": 14,
   "id": "286c0be2",
   "metadata": {
    "execution": {
     "iopub.execute_input": "2022-12-18T11:49:23.060128Z",
     "iopub.status.busy": "2022-12-18T11:49:23.058695Z",
     "iopub.status.idle": "2022-12-18T11:49:23.065427Z",
     "shell.execute_reply": "2022-12-18T11:49:23.063998Z"
    },
    "papermill": {
     "duration": 0.018897,
     "end_time": "2022-12-18T11:49:23.068059",
     "exception": false,
     "start_time": "2022-12-18T11:49:23.049162",
     "status": "completed"
    },
    "tags": []
   },
   "outputs": [],
   "source": [
    "full_proc=ColumnTransformer([\n",
    "    (\"cats\",catpip,cats),\n",
    "    (\"bins\",binpip,bins),\n",
    "    (\"ords\",ordpip,ords)\n",
    "],sparse_threshold=0)"
   ]
  },
  {
   "cell_type": "code",
   "execution_count": 15,
   "id": "07369378",
   "metadata": {
    "execution": {
     "iopub.execute_input": "2022-12-18T11:49:23.086686Z",
     "iopub.status.busy": "2022-12-18T11:49:23.086296Z",
     "iopub.status.idle": "2022-12-18T11:49:23.254459Z",
     "shell.execute_reply": "2022-12-18T11:49:23.252809Z"
    },
    "papermill": {
     "duration": 0.182611,
     "end_time": "2022-12-18T11:49:23.259032",
     "exception": false,
     "start_time": "2022-12-18T11:49:23.076421",
     "status": "completed"
    },
    "tags": []
   },
   "outputs": [],
   "source": [
    "df3=full_proc.fit_transform(df3)\n",
    "df3=pd.DataFrame(df3)\n",
    "#print(df3)\n",
    "dfte=full_proc.fit_transform(dfte)\n",
    "dfte=pd.DataFrame(dfte)"
   ]
  },
  {
   "cell_type": "code",
   "execution_count": 16,
   "id": "aa885884",
   "metadata": {
    "execution": {
     "iopub.execute_input": "2022-12-18T11:49:23.279359Z",
     "iopub.status.busy": "2022-12-18T11:49:23.278890Z",
     "iopub.status.idle": "2022-12-18T11:49:23.284668Z",
     "shell.execute_reply": "2022-12-18T11:49:23.283699Z"
    },
    "papermill": {
     "duration": 0.019968,
     "end_time": "2022-12-18T11:49:23.287972",
     "exception": false,
     "start_time": "2022-12-18T11:49:23.268004",
     "status": "completed"
    },
    "tags": []
   },
   "outputs": [],
   "source": [
    "#redcol=[]\n",
    "#cormat=df3.corr()\n",
    "#for i in cormat.columns:\n",
    "#    for j in cormat.columns:\n",
    "#        if j<i:\n",
    "#            if cormat[i][j]>0.5 or cormat[i][j]<-0.5:\n",
    "#                redcol.append(i)\n",
    "#print(redcol)\n",
    "#df3.drop(columns=redcol,inplace=True)\n",
    "#dfte.drop(columns=redcol,inplace=True)"
   ]
  },
  {
   "cell_type": "code",
   "execution_count": 17,
   "id": "f639b5d9",
   "metadata": {
    "execution": {
     "iopub.execute_input": "2022-12-18T11:49:23.311123Z",
     "iopub.status.busy": "2022-12-18T11:49:23.310713Z",
     "iopub.status.idle": "2022-12-18T11:49:23.848758Z",
     "shell.execute_reply": "2022-12-18T11:49:23.847520Z"
    },
    "papermill": {
     "duration": 0.550304,
     "end_time": "2022-12-18T11:49:23.851447",
     "exception": false,
     "start_time": "2022-12-18T11:49:23.301143",
     "status": "completed"
    },
    "tags": []
   },
   "outputs": [
    {
     "name": "stdout",
     "output_type": "stream",
     "text": [
      "3570\n",
      "3570\n"
     ]
    }
   ],
   "source": [
    "poly=PolynomialFeatures(degree=2)\n",
    "df3=poly.fit_transform(df3)\n",
    "df3=pd.DataFrame(df3)\n",
    "print(len(df3.columns))\n",
    "dfte=poly.fit_transform(dfte)\n",
    "dfte=pd.DataFrame(dfte)\n",
    "print(len(dfte.columns))"
   ]
  },
  {
   "cell_type": "code",
   "execution_count": 18,
   "id": "cebf2ac5",
   "metadata": {
    "execution": {
     "iopub.execute_input": "2022-12-18T11:49:23.868942Z",
     "iopub.status.busy": "2022-12-18T11:49:23.868547Z",
     "iopub.status.idle": "2022-12-18T11:49:23.873861Z",
     "shell.execute_reply": "2022-12-18T11:49:23.872624Z"
    },
    "papermill": {
     "duration": 0.017101,
     "end_time": "2022-12-18T11:49:23.876453",
     "exception": false,
     "start_time": "2022-12-18T11:49:23.859352",
     "status": "completed"
    },
    "tags": []
   },
   "outputs": [],
   "source": [
    "#print(df3.columns[-1])"
   ]
  },
  {
   "cell_type": "code",
   "execution_count": 19,
   "id": "da18519d",
   "metadata": {
    "execution": {
     "iopub.execute_input": "2022-12-18T11:49:23.894617Z",
     "iopub.status.busy": "2022-12-18T11:49:23.894247Z",
     "iopub.status.idle": "2022-12-18T11:49:24.632902Z",
     "shell.execute_reply": "2022-12-18T11:49:24.631691Z"
    },
    "papermill": {
     "duration": 0.750873,
     "end_time": "2022-12-18T11:49:24.635750",
     "exception": false,
     "start_time": "2022-12-18T11:49:23.884877",
     "status": "completed"
    },
    "tags": []
   },
   "outputs": [
    {
     "name": "stderr",
     "output_type": "stream",
     "text": [
      "/opt/conda/lib/python3.7/site-packages/sklearn/feature_selection/_univariate_selection.py:112: UserWarning: Features [   0   85  250  251  252  253  267  271  275  277  282  331  332  333\n",
      "  411  412  490  581  583  585  586  591  593  596  597  600  601  602\n",
      "  606  645  646  647  648  721  722  723  796  797  870 1015 1016 1017\n",
      " 1086 1087 1156 1293 1294 1295 1296 1297 1360 1361 1362 1363 1426 1427\n",
      " 1428 1437 1491 1492 1501 1555 1556 1558 1559 1560 1562 1563 1564 1565\n",
      " 1566 1572 1573 1574 1576 1579 1680 1681 1682 1683 1684 1685 1686 1687\n",
      " 1688 1689 1690 1691 1692 1693 1694 1695 1696 1697 1698 1699 1700 1701\n",
      " 1702 1703 1741 1742 1743 1744 1745 1746 1747 1748 1749 1750 1751 1752\n",
      " 1753 1754 1755 1756 1757 1758 1759 1760 1761 1762 1763 1801 1802 1803\n",
      " 1804 1805 1806 1807 1808 1809 1810 1811 1812 1813 1814 1815 1816 1817\n",
      " 1818 1819 1820 1821 1822 1860 1861 1862 1863 1864 1865 1866 1867 1868\n",
      " 1869 1870 1871 1872 1873 1874 1875 1876 1877 1878 1879 1880 1918 1919\n",
      " 1920 1921 1922 1923 1924 1925 1926 1927 1928 1929 1930 1931 1932 1933\n",
      " 1934 1935 1936 1937 1975 1976 1977 1978 1979 1980 1981 1982 1983 1984\n",
      " 1985 1986 1987 1988 1989 1990 1991 1992 1993 2031 2032 2033 2034 2035\n",
      " 2036 2037 2038 2039 2040 2041 2042 2043 2044 2045 2046 2047 2048 2086\n",
      " 2087 2088 2089 2090 2091 2092 2093 2094 2095 2096 2097 2098 2099 2100\n",
      " 2101 2102 2140 2141 2142 2143 2144 2145 2146 2147 2148 2149 2150 2151\n",
      " 2152 2153 2154 2155 2193 2194 2195 2196 2197 2198 2199 2200 2201 2202\n",
      " 2203 2204 2205 2206 2207 2245 2246 2247 2248 2249 2250 2251 2252 2253\n",
      " 2254 2255 2256 2257 2258 2296 2297 2298 2299 2300 2301 2302 2303 2304\n",
      " 2305 2306 2307 2308 2346 2347 2348 2349 2350 2351 2352 2353 2354 2355\n",
      " 2356 2357 2395 2396 2397 2398 2399 2400 2401 2402 2403 2404 2405 2443\n",
      " 2444 2445 2446 2447 2448 2449 2450 2451 2452 2490 2491 2492 2493 2494\n",
      " 2495 2496 2497 2498 2536 2537 2538 2539 2540 2541 2542 2543 2581 2582\n",
      " 2583 2584 2585 2586 2587 2625 2626 2627 2628 2629 2630 2668 2669 2670\n",
      " 2671 2672 2710 2711 2712 2713 2751 2752 2753 2791 2792 2830 2905 2906\n",
      " 2941 3010 3011 3043 3106 3165 3220 3271 3318 3361 3400 3435 3466 3493] are constant.\n",
      "  warnings.warn(\"Features %s are constant.\" % constant_features_idx, UserWarning)\n",
      "/opt/conda/lib/python3.7/site-packages/sklearn/feature_selection/_univariate_selection.py:113: RuntimeWarning: invalid value encountered in true_divide\n",
      "  f = msb / msw\n"
     ]
    }
   ],
   "source": [
    "fs=f_classif(df3,label)\n",
    "fs=pd.DataFrame(fs)\n",
    "#print(fs)\n"
   ]
  },
  {
   "cell_type": "code",
   "execution_count": 20,
   "id": "4656dbd9",
   "metadata": {
    "execution": {
     "iopub.execute_input": "2022-12-18T11:49:24.653591Z",
     "iopub.status.busy": "2022-12-18T11:49:24.653180Z",
     "iopub.status.idle": "2022-12-18T11:49:24.921531Z",
     "shell.execute_reply": "2022-12-18T11:49:24.920345Z"
    },
    "papermill": {
     "duration": 0.280344,
     "end_time": "2022-12-18T11:49:24.924180",
     "exception": false,
     "start_time": "2022-12-18T11:49:24.643836",
     "status": "completed"
    },
    "tags": []
   },
   "outputs": [],
   "source": [
    "notimpfeat=[]\n",
    "for i in fs.columns:\n",
    "    if fs[i][1]>0.05:\n",
    "        notimpfeat.append(i)"
   ]
  },
  {
   "cell_type": "code",
   "execution_count": 21,
   "id": "f9fece39",
   "metadata": {
    "execution": {
     "iopub.execute_input": "2022-12-18T11:49:24.942855Z",
     "iopub.status.busy": "2022-12-18T11:49:24.942432Z",
     "iopub.status.idle": "2022-12-18T11:49:25.107420Z",
     "shell.execute_reply": "2022-12-18T11:49:25.106123Z"
    },
    "papermill": {
     "duration": 0.17786,
     "end_time": "2022-12-18T11:49:25.110170",
     "exception": false,
     "start_time": "2022-12-18T11:49:24.932310",
     "status": "completed"
    },
    "tags": []
   },
   "outputs": [],
   "source": [
    "df4=df3.drop(columns=notimpfeat)\n",
    "dfte.drop(columns=notimpfeat,inplace=True)"
   ]
  },
  {
   "cell_type": "code",
   "execution_count": 22,
   "id": "3684cfd8",
   "metadata": {
    "execution": {
     "iopub.execute_input": "2022-12-18T11:49:25.128525Z",
     "iopub.status.busy": "2022-12-18T11:49:25.128096Z",
     "iopub.status.idle": "2022-12-18T11:49:25.133448Z",
     "shell.execute_reply": "2022-12-18T11:49:25.132232Z"
    },
    "papermill": {
     "duration": 0.017819,
     "end_time": "2022-12-18T11:49:25.136097",
     "exception": false,
     "start_time": "2022-12-18T11:49:25.118278",
     "status": "completed"
    },
    "tags": []
   },
   "outputs": [
    {
     "name": "stdout",
     "output_type": "stream",
     "text": [
      "1718\n",
      "1718\n"
     ]
    }
   ],
   "source": [
    "print(len(df4.columns))\n",
    "print(len(dfte.columns))"
   ]
  },
  {
   "cell_type": "code",
   "execution_count": 23,
   "id": "6389bab2",
   "metadata": {
    "execution": {
     "iopub.execute_input": "2022-12-18T11:49:25.156762Z",
     "iopub.status.busy": "2022-12-18T11:49:25.156190Z",
     "iopub.status.idle": "2022-12-18T11:49:25.162299Z",
     "shell.execute_reply": "2022-12-18T11:49:25.161157Z"
    },
    "papermill": {
     "duration": 0.019881,
     "end_time": "2022-12-18T11:49:25.164852",
     "exception": false,
     "start_time": "2022-12-18T11:49:25.144971",
     "status": "completed"
    },
    "tags": []
   },
   "outputs": [],
   "source": [
    "df3=[]\n",
    "#print(len(df4.columns))"
   ]
  },
  {
   "cell_type": "code",
   "execution_count": 24,
   "id": "0e183163",
   "metadata": {
    "execution": {
     "iopub.execute_input": "2022-12-18T11:49:25.184989Z",
     "iopub.status.busy": "2022-12-18T11:49:25.184553Z",
     "iopub.status.idle": "2022-12-18T11:49:25.189494Z",
     "shell.execute_reply": "2022-12-18T11:49:25.188314Z"
    },
    "papermill": {
     "duration": 0.018084,
     "end_time": "2022-12-18T11:49:25.191949",
     "exception": false,
     "start_time": "2022-12-18T11:49:25.173865",
     "status": "completed"
    },
    "tags": []
   },
   "outputs": [],
   "source": [
    "#xtrain,xtest,ytrain,ytest=train_test_split(df4,label,test_size=0.3)"
   ]
  },
  {
   "cell_type": "code",
   "execution_count": 25,
   "id": "585c07f4",
   "metadata": {
    "execution": {
     "iopub.execute_input": "2022-12-18T11:49:25.209923Z",
     "iopub.status.busy": "2022-12-18T11:49:25.209522Z",
     "iopub.status.idle": "2022-12-18T11:49:25.214449Z",
     "shell.execute_reply": "2022-12-18T11:49:25.213542Z"
    },
    "papermill": {
     "duration": 0.017137,
     "end_time": "2022-12-18T11:49:25.217250",
     "exception": false,
     "start_time": "2022-12-18T11:49:25.200113",
     "status": "completed"
    },
    "tags": []
   },
   "outputs": [],
   "source": [
    "param = {\n",
    "    'max_depth':[4,6],\n",
    "    \"n_estimators\":[200,300],\n",
    "    \"learning_rate\":[0.01,0.05,0.1]\n",
    "}\n",
    "#gs=GridSearchCV(estimator = xg.XGBClassifier( learning_rate =0.1, n_estimators=200, max_depth=5,objective= 'binary:logistic')\n",
    "#                ,param_grid=param,cv=5)\n",
    "#gs.fit(df4,label)\n",
    "#print(gs.best_params_)"
   ]
  },
  {
   "cell_type": "code",
   "execution_count": 26,
   "id": "b3a3a684",
   "metadata": {
    "execution": {
     "iopub.execute_input": "2022-12-18T11:49:25.236101Z",
     "iopub.status.busy": "2022-12-18T11:49:25.235479Z",
     "iopub.status.idle": "2022-12-18T11:49:25.239312Z",
     "shell.execute_reply": "2022-12-18T11:49:25.238438Z"
    },
    "papermill": {
     "duration": 0.0161,
     "end_time": "2022-12-18T11:49:25.241692",
     "exception": false,
     "start_time": "2022-12-18T11:49:25.225592",
     "status": "completed"
    },
    "tags": []
   },
   "outputs": [],
   "source": [
    "#print(gs.best_params_)"
   ]
  },
  {
   "cell_type": "code",
   "execution_count": 27,
   "id": "8cfe828a",
   "metadata": {
    "execution": {
     "iopub.execute_input": "2022-12-18T11:49:25.260691Z",
     "iopub.status.busy": "2022-12-18T11:49:25.260070Z",
     "iopub.status.idle": "2022-12-18T11:52:37.626599Z",
     "shell.execute_reply": "2022-12-18T11:52:37.625316Z"
    },
    "papermill": {
     "duration": 192.379424,
     "end_time": "2022-12-18T11:52:37.629383",
     "exception": false,
     "start_time": "2022-12-18T11:49:25.249959",
     "status": "completed"
    },
    "tags": []
   },
   "outputs": [],
   "source": [
    "#clf=AdaBoostClassifier(learning_rate=0.1,base_estimator=basedtree,n_estimators=50)\n",
    "clf=RandomForestClassifier(bootstrap=False,criterion=\"gini\",max_features=0.05,min_samples_leaf=11,min_samples_split=11,n_estimators=1000)\n",
    "#clf=GradientBoostingClassifier(learning_rate=0.01, max_depth=5, max_features=0.55,min_samples_leaf=8,min_samples_split=3,n_estimators=100,subsample=0.6500000000000001)\n",
    "#clf=xg.XGBClassifier(learning_rate =0.001, n_estimators=100,min_child_weight=3,subsample=0.15, max_depth=7)\n",
    "clf.fit(df4,label)\n",
    "p1=clf.predict(dfte)"
   ]
  },
  {
   "cell_type": "code",
   "execution_count": 28,
   "id": "558de8cf",
   "metadata": {
    "execution": {
     "iopub.execute_input": "2022-12-18T11:52:37.648443Z",
     "iopub.status.busy": "2022-12-18T11:52:37.648024Z",
     "iopub.status.idle": "2022-12-18T11:52:37.659078Z",
     "shell.execute_reply": "2022-12-18T11:52:37.657647Z"
    },
    "papermill": {
     "duration": 0.02404,
     "end_time": "2022-12-18T11:52:37.662313",
     "exception": false,
     "start_time": "2022-12-18T11:52:37.638273",
     "status": "completed"
    },
    "tags": []
   },
   "outputs": [
    {
     "name": "stdout",
     "output_type": "stream",
     "text": [
      "1    3669\n",
      "0    1636\n",
      "dtype: int64\n"
     ]
    }
   ],
   "source": [
    "p2=pd.DataFrame(p1)\n",
    "print(p2.value_counts())\n"
   ]
  },
  {
   "cell_type": "code",
   "execution_count": 29,
   "id": "369a81c2",
   "metadata": {
    "execution": {
     "iopub.execute_input": "2022-12-18T11:52:37.680360Z",
     "iopub.status.busy": "2022-12-18T11:52:37.679982Z",
     "iopub.status.idle": "2022-12-18T11:52:37.774796Z",
     "shell.execute_reply": "2022-12-18T11:52:37.773532Z"
    },
    "papermill": {
     "duration": 0.106783,
     "end_time": "2022-12-18T11:52:37.777543",
     "exception": false,
     "start_time": "2022-12-18T11:52:37.670760",
     "status": "completed"
    },
    "tags": []
   },
   "outputs": [],
   "source": [
    "for i in range(len(p2)):\n",
    "    if p2[0][i]==1:\n",
    "        p2[0][i]=\"Yes\"\n",
    "    else:\n",
    "        p2[0][i]=\"No\"\n"
   ]
  },
  {
   "cell_type": "code",
   "execution_count": 30,
   "id": "061e6566",
   "metadata": {
    "execution": {
     "iopub.execute_input": "2022-12-18T11:52:37.796509Z",
     "iopub.status.busy": "2022-12-18T11:52:37.796119Z",
     "iopub.status.idle": "2022-12-18T11:52:37.806450Z",
     "shell.execute_reply": "2022-12-18T11:52:37.805202Z"
    },
    "papermill": {
     "duration": 0.0244,
     "end_time": "2022-12-18T11:52:37.809936",
     "exception": false,
     "start_time": "2022-12-18T11:52:37.785536",
     "status": "completed"
    },
    "tags": []
   },
   "outputs": [
    {
     "name": "stdout",
     "output_type": "stream",
     "text": [
      "        0\n",
      "0     Yes\n",
      "1     Yes\n",
      "2      No\n",
      "3      No\n",
      "4     Yes\n",
      "...   ...\n",
      "5300  Yes\n",
      "5301  Yes\n",
      "5302   No\n",
      "5303  Yes\n",
      "5304  Yes\n",
      "\n",
      "[5305 rows x 1 columns]\n"
     ]
    }
   ],
   "source": [
    "print(p2)"
   ]
  },
  {
   "cell_type": "code",
   "execution_count": 31,
   "id": "f1ed60da",
   "metadata": {
    "execution": {
     "iopub.execute_input": "2022-12-18T11:52:37.828370Z",
     "iopub.status.busy": "2022-12-18T11:52:37.827964Z",
     "iopub.status.idle": "2022-12-18T11:52:37.840804Z",
     "shell.execute_reply": "2022-12-18T11:52:37.839513Z"
    },
    "papermill": {
     "duration": 0.025383,
     "end_time": "2022-12-18T11:52:37.843772",
     "exception": false,
     "start_time": "2022-12-18T11:52:37.818389",
     "status": "completed"
    },
    "tags": []
   },
   "outputs": [
    {
     "name": "stdout",
     "output_type": "stream",
     "text": [
      "        id Offer Accepted\n",
      "0        0            Yes\n",
      "1        1            Yes\n",
      "2        2             No\n",
      "3        3             No\n",
      "4        4            Yes\n",
      "...    ...            ...\n",
      "5300  5300            Yes\n",
      "5301  5301            Yes\n",
      "5302  5302             No\n",
      "5303  5303            Yes\n",
      "5304  5304            Yes\n",
      "\n",
      "[5305 rows x 2 columns]\n"
     ]
    }
   ],
   "source": [
    "p3={}\n",
    "p3[\"id\"]=[i for i in range(5305)]\n",
    "p3[\"Offer Accepted\"]=p2[0]\n",
    "p3=pd.DataFrame(p3)\n",
    "print(p3)"
   ]
  },
  {
   "cell_type": "code",
   "execution_count": 32,
   "id": "79ee4cb8",
   "metadata": {
    "execution": {
     "iopub.execute_input": "2022-12-18T11:52:37.862265Z",
     "iopub.status.busy": "2022-12-18T11:52:37.861849Z",
     "iopub.status.idle": "2022-12-18T11:52:37.876230Z",
     "shell.execute_reply": "2022-12-18T11:52:37.874963Z"
    },
    "papermill": {
     "duration": 0.026504,
     "end_time": "2022-12-18T11:52:37.878949",
     "exception": false,
     "start_time": "2022-12-18T11:52:37.852445",
     "status": "completed"
    },
    "tags": []
   },
   "outputs": [],
   "source": [
    "p3.to_csv(\"submission.csv\",index=False)"
   ]
  }
 ],
 "metadata": {
  "kernelspec": {
   "display_name": "Python 3",
   "language": "python",
   "name": "python3"
  },
  "language_info": {
   "codemirror_mode": {
    "name": "ipython",
    "version": 3
   },
   "file_extension": ".py",
   "mimetype": "text/x-python",
   "name": "python",
   "nbconvert_exporter": "python",
   "pygments_lexer": "ipython3",
   "version": "3.7.12"
  },
  "papermill": {
   "default_parameters": {},
   "duration": 207.441276,
   "end_time": "2022-12-18T11:52:38.709989",
   "environment_variables": {},
   "exception": null,
   "input_path": "__notebook__.ipynb",
   "output_path": "__notebook__.ipynb",
   "parameters": {},
   "start_time": "2022-12-18T11:49:11.268713",
   "version": "2.3.4"
  }
 },
 "nbformat": 4,
 "nbformat_minor": 5
}
